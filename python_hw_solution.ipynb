{
 "cells": [
  {
   "cell_type": "markdown",
   "metadata": {},
   "source": [
    "# Python\n",
    "FizzBuzz"
   ]
  },
  {
   "cell_type": "code",
   "execution_count": 2,
   "metadata": {
    "collapsed": false
   },
   "outputs": [],
   "source": [
    "def fizz_buzz():\n",
    "    for i in xrange(1, 101):\n",
    "        if i % 5 == 0 and i % 3 == 0:\n",
    "            print 'FizzBuzz'\n",
    "        elif i % 3 == 0:\n",
    "            print 'Fizz'\n",
    "        elif i % 5 == 0:\n",
    "            print 'Buzz'\n",
    "        else:\n",
    "            print i"
   ]
  },
  {
   "cell_type": "markdown",
   "metadata": {},
   "source": [
    "Сотое число Фибоначчи"
   ]
  },
  {
   "cell_type": "code",
   "execution_count": 10,
   "metadata": {
    "collapsed": false
   },
   "outputs": [
    {
     "data": {
      "text/plain": [
       "354224848179261915075L"
      ]
     },
     "execution_count": 10,
     "metadata": {},
     "output_type": "execute_result"
    }
   ],
   "source": [
    "import numpy as np\n",
    "from numpy.linalg import matrix_power\n",
    "\n",
    "def fib(n):\n",
    "    M = np.array([[1L, 1L], [1L, 0L]], dtype=object)\n",
    "    M = matrix_power(M, n - 1)\n",
    "    return M[0, 0]\n",
    "\n",
    "fib(100)"
   ]
  },
  {
   "cell_type": "markdown",
   "metadata": {},
   "source": []
  },
  {
   "cell_type": "markdown",
   "metadata": {},
   "source": [
    "# Numpy\n",
    "Аналог numpy.linspace с циклами"
   ]
  },
  {
   "cell_type": "code",
   "execution_count": 17,
   "metadata": {
    "collapsed": false
   },
   "outputs": [
    {
     "data": {
      "text/plain": [
       "[2.0, 2.25, 2.5, 2.75, 3.0]"
      ]
     },
     "execution_count": 17,
     "metadata": {},
     "output_type": "execute_result"
    }
   ],
   "source": [
    "def my_loop_linspace(start, stop, num=50, endpoint=True, retstep=False):\n",
    "    if endpoint:\n",
    "        step = (stop - start) / float(num - 1)\n",
    "    else:\n",
    "        step = (stop - start) / float(num)\n",
    "    res = []\n",
    "    for i in xrange(num):\n",
    "        res.append(start + i*step)\n",
    "    if retstep:\n",
    "        return res, step\n",
    "    return res\n",
    "\n",
    "my_loop_linspace(2, 3, 5)"
   ]
  },
  {
   "cell_type": "markdown",
   "metadata": {},
   "source": [
    "Аналог numpy.linspace через list comprehension"
   ]
  },
  {
   "cell_type": "code",
   "execution_count": 20,
   "metadata": {
    "collapsed": false
   },
   "outputs": [
    {
     "data": {
      "text/plain": [
       "([2.0, 2.2, 2.4, 2.6, 2.8], 0.2)"
      ]
     },
     "execution_count": 20,
     "metadata": {},
     "output_type": "execute_result"
    }
   ],
   "source": [
    "def my_list_linspace(start, stop, num=50, endpoint=True, retstep=False):\n",
    "    if endpoint:\n",
    "        step = (stop - start) / float(num - 1)\n",
    "    else:\n",
    "        step = (stop - start) / float(num)\n",
    "    if retstep:\n",
    "        return [start + i*step for i in xrange(num)], step\n",
    "    return [start + i*step for i in xrange(num)]\n",
    "\n",
    "my_list_linspace(2, 3, 5, False, True)"
   ]
  },
  {
   "cell_type": "markdown",
   "metadata": {},
   "source": [
    "Сравним производительность всех трех вариантов"
   ]
  },
  {
   "cell_type": "code",
   "execution_count": 28,
   "metadata": {
    "collapsed": true
   },
   "outputs": [],
   "source": [
    "from time import time\n",
    "def get_perfomance(func):\n",
    "    start = time()\n",
    "    func(10, 100, 10000000)\n",
    "    end = time()\n",
    "    return end - start"
   ]
  },
  {
   "cell_type": "code",
   "execution_count": 29,
   "metadata": {
    "collapsed": false
   },
   "outputs": [
    {
     "data": {
      "text/plain": [
       "4.3960490226745605"
      ]
     },
     "execution_count": 29,
     "metadata": {},
     "output_type": "execute_result"
    }
   ],
   "source": [
    "get_perfomance(my_loop_linspace)"
   ]
  },
  {
   "cell_type": "code",
   "execution_count": 30,
   "metadata": {
    "collapsed": false
   },
   "outputs": [
    {
     "data": {
      "text/plain": [
       "3.2853798866271973"
      ]
     },
     "execution_count": 30,
     "metadata": {},
     "output_type": "execute_result"
    }
   ],
   "source": [
    "get_perfomance(my_list_linspace)"
   ]
  },
  {
   "cell_type": "code",
   "execution_count": 31,
   "metadata": {
    "collapsed": false
   },
   "outputs": [
    {
     "data": {
      "text/plain": [
       "0.6087541580200195"
      ]
     },
     "execution_count": 31,
     "metadata": {},
     "output_type": "execute_result"
    }
   ],
   "source": [
    "get_perfomance(np.linspace)"
   ]
  },
  {
   "cell_type": "code",
   "execution_count": null,
   "metadata": {
    "collapsed": true
   },
   "outputs": [],
   "source": []
  }
 ],
 "metadata": {
  "anaconda-cloud": {},
  "kernelspec": {
   "display_name": "Python [Root]",
   "language": "python",
   "name": "Python [Root]"
  },
  "language_info": {
   "codemirror_mode": {
    "name": "ipython",
    "version": 2
   },
   "file_extension": ".py",
   "mimetype": "text/x-python",
   "name": "python",
   "nbconvert_exporter": "python",
   "pygments_lexer": "ipython2",
   "version": "2.7.12"
  }
 },
 "nbformat": 4,
 "nbformat_minor": 0
}
