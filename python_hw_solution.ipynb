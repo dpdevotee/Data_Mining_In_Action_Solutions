{
 "cells": [
  {
   "cell_type": "markdown",
   "metadata": {},
   "source": [
    "# Python\n",
    "FizzBuzz"
   ]
  },
  {
   "cell_type": "code",
   "execution_count": 2,
   "metadata": {
    "collapsed": false
   },
   "outputs": [],
   "source": [
    "def fizz_buzz():\n",
    "    for i in xrange(1, 101):\n",
    "        if i % 5 == 0 and i % 3 == 0:\n",
    "            print 'FizzBuzz'\n",
    "        elif i % 3 == 0:\n",
    "            print 'Fizz'\n",
    "        elif i % 5 == 0:\n",
    "            print 'Buzz'\n",
    "        else:\n",
    "            print i"
   ]
  },
  {
   "cell_type": "markdown",
   "metadata": {},
   "source": [
    "Сотое число Фибоначчи"
   ]
  },
  {
   "cell_type": "code",
   "execution_count": 73,
   "metadata": {
    "collapsed": false
   },
   "outputs": [
    {
     "data": {
      "text/plain": [
       "354224848179261915075L"
      ]
     },
     "execution_count": 73,
     "metadata": {},
     "output_type": "execute_result"
    }
   ],
   "source": [
    "import numpy as np\n",
    "from numpy.linalg import matrix_power\n",
    "\n",
    "def fib(n):\n",
    "    M = np.array([[1L, 1L], [1L, 0L]], dtype=object)\n",
    "    M = matrix_power(M, n - 1)\n",
    "    return M[0, 0]\n",
    "\n",
    "fib(100)"
   ]
  },
  {
   "cell_type": "markdown",
   "metadata": {},
   "source": [
    "Быстрая сортировка"
   ]
  },
  {
   "cell_type": "code",
   "execution_count": 147,
   "metadata": {
    "collapsed": false
   },
   "outputs": [],
   "source": [
    "def my_sorted(arr):\n",
    "    if len(arr) <= 1:\n",
    "        return arr\n",
    "    v = arr[1:]\n",
    "    a = v[v <= arr[0]]\n",
    "    b = v[v > arr[0]]\n",
    "    return np.concatenate((my_sorted(a), [arr[0]], my_sorted(b)))"
   ]
  },
  {
   "cell_type": "code",
   "execution_count": 150,
   "metadata": {
    "collapsed": false
   },
   "outputs": [
    {
     "data": {
      "text/plain": [
       "array([-6, -3, -2,  0,  0,  0,  3,  3,  4,  5,  6,  7,  9, 10])"
      ]
     },
     "execution_count": 150,
     "metadata": {},
     "output_type": "execute_result"
    }
   ],
   "source": [
    "arr = np.array([6,4,7,5,3,9,0,10,-3,-6,-2,0, 0,3])\n",
    "my_sorted(arr)"
   ]
  },
  {
   "cell_type": "markdown",
   "metadata": {},
   "source": [
    "В одну строчку:"
   ]
  },
  {
   "cell_type": "code",
   "execution_count": 151,
   "metadata": {
    "collapsed": true
   },
   "outputs": [],
   "source": [
    "qsort = lambda seq: [] if not seq else qsort(filter(lambda n: n<=seq[0], seq[1:]))+[seq[0]]+qsort(filter(lambda n: n>seq[0], seq[1:]))"
   ]
  },
  {
   "cell_type": "code",
   "execution_count": 153,
   "metadata": {
    "collapsed": false
   },
   "outputs": [
    {
     "data": {
      "text/plain": [
       "[-6, -3, -2, 0, 0, 0, 3, 3, 4, 5, 6, 7, 9, 10]"
      ]
     },
     "execution_count": 153,
     "metadata": {},
     "output_type": "execute_result"
    }
   ],
   "source": [
    "arr = [6,4,7,5,3,9,0,10,-3,-6,-2,0, 0,3]\n",
    "qsort(arr)"
   ]
  },
  {
   "cell_type": "markdown",
   "metadata": {},
   "source": [
    "# NumPy\n",
    "Аналог numpy.linspace с циклами"
   ]
  },
  {
   "cell_type": "code",
   "execution_count": 17,
   "metadata": {
    "collapsed": false
   },
   "outputs": [
    {
     "data": {
      "text/plain": [
       "[2.0, 2.25, 2.5, 2.75, 3.0]"
      ]
     },
     "execution_count": 17,
     "metadata": {},
     "output_type": "execute_result"
    }
   ],
   "source": [
    "def my_loop_linspace(start, stop, num=50, endpoint=True, retstep=False):\n",
    "    if endpoint:\n",
    "        step = (stop - start) / float(num - 1)\n",
    "    else:\n",
    "        step = (stop - start) / float(num)\n",
    "    res = []\n",
    "    for i in xrange(num):\n",
    "        res.append(start + i*step)\n",
    "    if retstep:\n",
    "        return res, step\n",
    "    return res\n",
    "\n",
    "my_loop_linspace(2, 3, 5)"
   ]
  },
  {
   "cell_type": "markdown",
   "metadata": {},
   "source": [
    "Аналог numpy.linspace через list comprehension"
   ]
  },
  {
   "cell_type": "code",
   "execution_count": 20,
   "metadata": {
    "collapsed": false
   },
   "outputs": [
    {
     "data": {
      "text/plain": [
       "([2.0, 2.2, 2.4, 2.6, 2.8], 0.2)"
      ]
     },
     "execution_count": 20,
     "metadata": {},
     "output_type": "execute_result"
    }
   ],
   "source": [
    "def my_list_linspace(start, stop, num=50, endpoint=True, retstep=False):\n",
    "    if endpoint:\n",
    "        step = (stop - start) / float(num - 1)\n",
    "    else:\n",
    "        step = (stop - start) / float(num)\n",
    "    if retstep:\n",
    "        return [start + i*step for i in xrange(num)], step\n",
    "    return [start + i*step for i in xrange(num)]\n",
    "\n",
    "my_list_linspace(2, 3, 5, False, True)"
   ]
  },
  {
   "cell_type": "markdown",
   "metadata": {},
   "source": [
    "Сравним производительность всех трех вариантов"
   ]
  },
  {
   "cell_type": "code",
   "execution_count": 28,
   "metadata": {
    "collapsed": true
   },
   "outputs": [],
   "source": [
    "from time import time\n",
    "def get_perfomance(func):\n",
    "    start = time()\n",
    "    func(10, 100, 10000000)\n",
    "    end = time()\n",
    "    return end - start"
   ]
  },
  {
   "cell_type": "code",
   "execution_count": 29,
   "metadata": {
    "collapsed": false
   },
   "outputs": [
    {
     "data": {
      "text/plain": [
       "4.3960490226745605"
      ]
     },
     "execution_count": 29,
     "metadata": {},
     "output_type": "execute_result"
    }
   ],
   "source": [
    "get_perfomance(my_loop_linspace)"
   ]
  },
  {
   "cell_type": "code",
   "execution_count": 30,
   "metadata": {
    "collapsed": false
   },
   "outputs": [
    {
     "data": {
      "text/plain": [
       "3.2853798866271973"
      ]
     },
     "execution_count": 30,
     "metadata": {},
     "output_type": "execute_result"
    }
   ],
   "source": [
    "get_perfomance(my_list_linspace)"
   ]
  },
  {
   "cell_type": "code",
   "execution_count": 31,
   "metadata": {
    "collapsed": false
   },
   "outputs": [
    {
     "data": {
      "text/plain": [
       "0.6087541580200195"
      ]
     },
     "execution_count": 31,
     "metadata": {},
     "output_type": "execute_result"
    }
   ],
   "source": [
    "get_perfomance(np.linspace)"
   ]
  },
  {
   "cell_type": "markdown",
   "metadata": {
    "collapsed": true
   },
   "source": [
    "linspace, реализованная с помощью цикла, работает в 1,5 раза медленнее, чем её версия, реализованная\n",
    "через list comprehension, и в 7 раз медленне, чем версия из numpy."
   ]
  },
  {
   "cell_type": "code",
   "execution_count": null,
   "metadata": {
    "collapsed": false
   },
   "outputs": [],
   "source": []
  },
  {
   "cell_type": "markdown",
   "metadata": {},
   "source": [
    "# Matplotlib"
   ]
  },
  {
   "cell_type": "code",
   "execution_count": 72,
   "metadata": {
    "collapsed": false
   },
   "outputs": [
    {
     "data": {
      "image/png": "[encoded data removed]",
      "text/plain": [
       "<matplotlib.figure.Figure at 0xb33f8bec>"
      ]
     },
     "metadata": {},
     "output_type": "display_data"
    }
   ],
   "source": [
    "%matplotlib inline\n",
    "from matplotlib import rc\n",
    "import matplotlib.pyplot as plt\n",
    "\n",
    "rc('font',**{'family':'sans-serif','sans-serif':['Helvetica']})\n",
    "rc('text', usetex=True)\n",
    "\n",
    "x = np.arange(-5, 5, 0.1)\n",
    "plt.subplot(1, 2, 1)\n",
    "plt.ylim(-2, 6)\n",
    "plt.plot(x, 0.5*x + 1, 'r', label=r'$y=\\frac{x}{2}+1$')\n",
    "plt.plot(x, np.log(x + 6), 'g', label='$y=log(x+6)$')\n",
    "plt.plot(x, np.arctan(x), 'b', label=r'$y=arctg(x)$')\n",
    "plt.legend()\n",
    "plt.subplot(1, 2, 2)\n",
    "plt.plot(x, -x**3 + 5*x*x + 1, 'r', label='$y=-x^3+2x^2+1$')\n",
    "plt.plot(x, 50*np.sin(x), 'g', label='$y=sin(x)$')\n",
    "plt.legend()\n",
    "plt.savefig('my_plot.svg')"
   ]
  },
  {
   "cell_type": "markdown",
   "metadata": {},
   "source": [
    "# SciPy"
   ]
  },
  {
   "cell_type": "code",
   "execution_count": 68,
   "metadata": {
    "collapsed": false
   },
   "outputs": [],
   "source": [
    "from numpy.linalg import eig, norm\n",
    "A = np.random.randn(5, 5)\n",
    "values, vectors = eig(A)"
   ]
  },
  {
   "cell_type": "markdown",
   "metadata": {},
   "source": [
    "Собственные числа:"
   ]
  },
  {
   "cell_type": "code",
   "execution_count": 69,
   "metadata": {
    "collapsed": false
   },
   "outputs": [
    {
     "data": {
      "text/plain": [
       "array([-2.06351735+0.j        , -0.52516091+0.j        ,\n",
       "        1.67916777+1.68551305j,  1.67916777-1.68551305j,  1.04452332+0.j        ])"
      ]
     },
     "execution_count": 69,
     "metadata": {},
     "output_type": "execute_result"
    }
   ],
   "source": [
    "values"
   ]
  },
  {
   "cell_type": "markdown",
   "metadata": {},
   "source": [
    "Собственные векторы:"
   ]
  },
  {
   "cell_type": "code",
   "execution_count": 70,
   "metadata": {
    "collapsed": false
   },
   "outputs": [
    {
     "data": {
      "text/plain": [
       "array([[-0.01075080+0.j        , -0.17961569+0.j        ,\n",
       "        -0.07653507+0.41985871j, -0.07653507-0.41985871j,  0.50804873+0.j        ],\n",
       "       [ 0.20359150+0.j        , -0.21456407+0.j        ,\n",
       "        -0.50984440+0.j        , -0.50984440-0.j        ,  0.21030138+0.j        ],\n",
       "       [ 0.10628822+0.j        , -0.44600737+0.j        ,\n",
       "        -0.24764218-0.34675123j, -0.24764218+0.34675123j, -0.32404591+0.j        ],\n",
       "       [-0.90268864+0.j        ,  0.84389649+0.j        ,\n",
       "         0.23822617-0.38754872j,  0.23822617+0.38754872j,  0.03496425+0.j        ],\n",
       "       [-0.36371824+0.j        ,  0.10303692+0.j        ,\n",
       "         0.05144917+0.4083674j ,  0.05144917-0.4083674j , -0.76904588+0.j        ]])"
      ]
     },
     "execution_count": 70,
     "metadata": {},
     "output_type": "execute_result"
    }
   ],
   "source": [
    "vectors"
   ]
  },
  {
   "cell_type": "markdown",
   "metadata": {},
   "source": [
    "Проверим, что это действительно собственные числа и векторы"
   ]
  },
  {
   "cell_type": "code",
   "execution_count": 71,
   "metadata": {
    "collapsed": false
   },
   "outputs": [
    {
     "name": "stdout",
     "output_type": "stream",
     "text": [
      "5.36314220155e-15\n",
      "1.28022122411e-15\n",
      "3.51653394508e-15\n",
      "3.51653394508e-15\n",
      "1.89577896107e-15\n"
     ]
    }
   ],
   "source": [
    "for i in xrange(vectors.shape[1]):\n",
    "    print norm(np.dot(A, vectors[:, i]) - values[i] * vectors[:, i])"
   ]
  },
  {
   "cell_type": "markdown",
   "metadata": {},
   "source": [
    "Получаем, что ошибка не превышает 1e-14, поэтому найденные векторы и числа близки к собственным"
   ]
  },
  {
   "cell_type": "code",
   "execution_count": null,
   "metadata": {
    "collapsed": true
   },
   "outputs": [],
   "source": []
  }
 ],
 "metadata": {
  "anaconda-cloud": {},
  "kernelspec": {
   "display_name": "Python [Root]",
   "language": "python",
   "name": "Python [Root]"
  },
  "language_info": {
   "codemirror_mode": {
    "name": "ipython",
    "version": 2
   },
   "file_extension": ".py",
   "mimetype": "text/x-python",
   "name": "python",
   "nbconvert_exporter": "python",
   "pygments_lexer": "ipython2",
   "version": "2.7.12"
  }
 },
 "nbformat": 4,
 "nbformat_minor": 0
}
